{
 "cells": [
  {
   "cell_type": "code",
   "execution_count": null,
   "metadata": {},
   "outputs": [],
   "source": [
    "l1 = [4,7,8,5,23,2]\n",
    "l2 = [3,3,7]\n",
    "reverse_l1 = 0\n",
    "reverse_l2 = 0\n",
    "result = []\n",
    "for i in l1[::-1]:\n",
    "    reverse_l1 = reverse_l1*10 + i\n",
    "for i in l2[::-1]:\n",
    "    reverse_l2 = reverse_l2*10 + i\n",
    "sum = reverse_l1 + reverse_l2  \n",
    "while sum > 0:\n",
    "    a = sum%10\n",
    "    sum = sum//10\n",
    "    result.append(a)\n",
    "print(result)    \n",
    "\n",
    "\n"
   ]
  },
  {
   "cell_type": "code",
   "execution_count": 81,
   "metadata": {},
   "outputs": [
    {
     "name": "stdout",
     "output_type": "stream",
     "text": [
      "[1]\n",
      "[1, 0]\n",
      "[1, 0, 0]\n",
      "[1, 0, 0, 1]\n"
     ]
    },
    {
     "data": {
      "text/plain": [
       "True"
      ]
     },
     "execution_count": 81,
     "metadata": {},
     "output_type": "execute_result"
    }
   ],
   "source": [
    "k = []\n",
    "x = 1001\n",
    "def Check_palindrome(x,k):\n",
    "    k=[]\n",
    "    if x < 0:\n",
    "        return False\n",
    "    if x == 0:\n",
    "        return True    \n",
    "    while x > 0:\n",
    "        k.append(x%10)\n",
    "        x //= 10\n",
    "        print(k)\n",
    "    return(k[::-1] == k) \n",
    "\n",
    "Check_palindrome(x,k)         \n",
    "for i in \n",
    "    \n",
    "    "
   ]
  },
  {
   "cell_type": "code",
   "execution_count": 10,
   "metadata": {},
   "outputs": [
    {
     "name": "stdout",
     "output_type": "stream",
     "text": [
      "Selected: D:/Logfile/1.txt\n",
      "Selected: D:/Logfile/1.txt\n"
     ]
    },
    {
     "ename": "NameError",
     "evalue": "name 'close' is not defined",
     "output_type": "error",
     "traceback": [
      "\u001b[1;31m---------------------------------------------------------------------------\u001b[0m",
      "\u001b[1;31mNameError\u001b[0m                                 Traceback (most recent call last)",
      "\u001b[1;32mUntitled-1.ipynb Cell 3'\u001b[0m in \u001b[0;36m<cell line: 20>\u001b[1;34m()\u001b[0m\n\u001b[0;32m     <a href='vscode-notebook-cell:Untitled-1.ipynb?jupyter-notebook#ch0000002untitled?line=16'>17</a>\u001b[0m label1\u001b[39m.\u001b[39mpack(padx\u001b[39m=\u001b[39m\u001b[39m2\u001b[39m, pady\u001b[39m=\u001b[39m\u001b[39m2\u001b[39m)\n\u001b[0;32m     <a href='vscode-notebook-cell:Untitled-1.ipynb?jupyter-notebook#ch0000002untitled?line=18'>19</a>\u001b[0m root\u001b[39m.\u001b[39mmainloop()\n\u001b[1;32m---> <a href='vscode-notebook-cell:Untitled-1.ipynb?jupyter-notebook#ch0000002untitled?line=19'>20</a>\u001b[0m close()\n",
      "\u001b[1;31mNameError\u001b[0m: name 'close' is not defined"
     ]
    }
   ],
   "source": []
  },
  {
   "cell_type": "code",
   "execution_count": null,
   "metadata": {},
   "outputs": [],
   "source": []
  }
 ],
 "metadata": {
  "kernelspec": {
   "display_name": "Python 3.10.3 64-bit",
   "language": "python",
   "name": "python3"
  },
  "language_info": {
   "codemirror_mode": {
    "name": "ipython",
    "version": 3
   },
   "file_extension": ".py",
   "mimetype": "text/x-python",
   "name": "python",
   "nbconvert_exporter": "python",
   "pygments_lexer": "ipython3",
   "version": "3.10.3"
  },
  "orig_nbformat": 4,
  "vscode": {
   "interpreter": {
    "hash": "97ddc28bdcd24b84b8120ad7968d2264aee9efa803f5ba6fb0da4ee24ee25b90"
   }
  }
 },
 "nbformat": 4,
 "nbformat_minor": 2
}
