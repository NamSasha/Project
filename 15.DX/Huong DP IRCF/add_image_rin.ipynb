{
 "cells": [
  {
   "cell_type": "code",
   "execution_count": 92,
   "metadata": {},
   "outputs": [
    {
     "ename": "com_error",
     "evalue": "(-2147352567, 'Exception occurred.', (0, 'Microsoft Excel', \"Excel cannot access 'DP Marked Images'.  The document may be read-only or encrypted.\", 'xlmain11.chm', 0, -2146827284), None)",
     "output_type": "error",
     "traceback": [
      "\u001b[1;31m---------------------------------------------------------------------------\u001b[0m",
      "\u001b[1;31mcom_error\u001b[0m                                 Traceback (most recent call last)",
      "\u001b[1;32mUntitled-2.ipynb Cell 1\u001b[0m in \u001b[0;36m<cell line: 54>\u001b[1;34m()\u001b[0m\n\u001b[0;32m     <a href='vscode-notebook-cell:Untitled-2.ipynb?jupyter-notebook#W0sdW50aXRsZWQ%3D?line=51'>52</a>\u001b[0m excel \u001b[39m=\u001b[39m Dispatch(\u001b[39m\"\u001b[39m\u001b[39mExcel.Application\u001b[39m\u001b[39m\"\u001b[39m) \u001b[39m#pywin32 (win32com.client)\u001b[39;00m\n\u001b[0;32m     <a href='vscode-notebook-cell:Untitled-2.ipynb?jupyter-notebook#W0sdW50aXRsZWQ%3D?line=52'>53</a>\u001b[0m excel\u001b[39m.\u001b[39mVisible \u001b[39m=\u001b[39m \u001b[39m1\u001b[39m\n\u001b[1;32m---> <a href='vscode-notebook-cell:Untitled-2.ipynb?jupyter-notebook#W0sdW50aXRsZWQ%3D?line=53'>54</a>\u001b[0m source \u001b[39m=\u001b[39m excel\u001b[39m.\u001b[39;49mWorkbooks\u001b[39m.\u001b[39;49mOpen(img_path)\n\u001b[0;32m     <a href='vscode-notebook-cell:Untitled-2.ipynb?jupyter-notebook#W0sdW50aXRsZWQ%3D?line=54'>55</a>\u001b[0m time\u001b[39m.\u001b[39msleep(\u001b[39m1\u001b[39m)\n",
      "File \u001b[1;32m<COMObject <unknown>>:5\u001b[0m, in \u001b[0;36mOpen\u001b[1;34m(self, Filename, UpdateLinks, ReadOnly, Format, Password, WriteResPassword, IgnoreReadOnlyRecommended, Origin, Delimiter, Editable, Notify, Converter, AddToMru, Local, CorruptLoad)\u001b[0m\n",
      "\u001b[1;31mcom_error\u001b[0m: (-2147352567, 'Exception occurred.', (0, 'Microsoft Excel', \"Excel cannot access 'DP Marked Images'.  The document may be read-only or encrypted.\", 'xlmain11.chm', 0, -2146827284), None)"
     ]
    }
   ],
   "source": [
    "import glob\n",
    "import os \n",
    "import openpyxl\n",
    "from openpyxl import load_workbook\n",
    "from tkinter import END, filedialog\n",
    "from win32com.client import Dispatch\n",
    "import time\n",
    "from tqdm import tdqm\n",
    "\n",
    "#headers\n",
    "print(\"Hi, Sasha here. Greetinngss.......\\n\\n\")\n",
    "for i in tqdm(range(0,10),desc= 'Đợi 1 chút :3'):\n",
    "    time.sleep(0.1)\n",
    "\n",
    "#directory\n",
    "img_path = filedialog.askdirectory(title='Select Image Directory')\n",
    "excel_path = filedialog.askopenfilename(title = \"Select excel file\",filetypes = ((\"Xlsm Files\",\"*.xlsm\"),(\"All\",\"*.*\")))\n",
    "\n",
    "#get data\n",
    "for x in glob.glob(img_path):\n",
    "    img_names = os.listdir(x)\n",
    "#img_names,barcode,DP\n",
    "barcode = [barcode.split('_')[0] for barcode in img_names]\n",
    "DP = [dp.split('_')[1].split('.')[0] for dp in img_names]\n",
    "img_names =  [img_path+'/'+ img for img in img_names]\n",
    "#modifiy excel\n",
    "wb = load_workbook(excel_path,keep_vba=True)\n",
    "ws = wb['DP']\n",
    "\n",
    "#delete old value\n",
    "for row in ws['B33:F204']:\n",
    "    for cell in row:\n",
    "        cell.value = None\n",
    "while ws._images:\n",
    "    del ws._images[0]\n",
    "\n",
    "#insert new value\n",
    "for index,rows in zip(range(1,len(barcode)+1),range(33,len(barcode)+34)):\n",
    "    mycell_barcode =  ws.cell(row = rows,column = 5)\n",
    "    mycell_DP = ws.cell(row = rows,column = 6)\n",
    "    mycell_index = ws.cell(row = rows,column = 2)\n",
    "    mycell_barcode.value = barcode[rows-33]\n",
    "    mycell_DP.value = DP[rows-33]\n",
    "    mycell_index.value = index\n",
    "\n",
    "#insert image\n",
    "for image,rows in zip(img_names,range(33,len(barcode)+34)):\n",
    "    mycell_img =  ws.cell(row = rows,column = 7).coordinate\n",
    "    img = openpyxl.drawing.image.Image(image)\n",
    "    img.width = 180\n",
    "    img.height = 110\n",
    "    ws.add_image(img,mycell_img)\n",
    "\n",
    "#save        \n",
    "wb.save(excel_path)\n"
   ]
  },
  {
   "cell_type": "code",
   "execution_count": null,
   "metadata": {},
   "outputs": [],
   "source": []
  }
 ],
 "metadata": {
  "kernelspec": {
   "display_name": "Python 3.10.3 64-bit",
   "language": "python",
   "name": "python3"
  },
  "language_info": {
   "codemirror_mode": {
    "name": "ipython",
    "version": 3
   },
   "file_extension": ".py",
   "mimetype": "text/x-python",
   "name": "python",
   "nbconvert_exporter": "python",
   "pygments_lexer": "ipython3",
   "version": "3.10.3"
  },
  "orig_nbformat": 4,
  "vscode": {
   "interpreter": {
    "hash": "97ddc28bdcd24b84b8120ad7968d2264aee9efa803f5ba6fb0da4ee24ee25b90"
   }
  }
 },
 "nbformat": 4,
 "nbformat_minor": 2
}
