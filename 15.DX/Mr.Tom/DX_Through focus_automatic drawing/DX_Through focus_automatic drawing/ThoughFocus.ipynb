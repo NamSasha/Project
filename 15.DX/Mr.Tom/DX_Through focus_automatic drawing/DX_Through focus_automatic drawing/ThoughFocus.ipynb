{
 "cells": [
  {
   "cell_type": "code",
   "execution_count": 1,
   "metadata": {},
   "outputs": [],
   "source": [
    "import pandas as pd\n",
    "from tkinter import Tk\n",
    "from tkinter import filedialog\n",
    "import matplotlib.pyplot as plt\n",
    "import os\n",
    "import time\n",
    "from tkinter.filedialog import askopenfilename"
   ]
  },
  {
   "cell_type": "code",
   "execution_count": 2,
   "metadata": {},
   "outputs": [
    {
     "ename": "FileNotFoundError",
     "evalue": "[Errno 2] No such file or directory: ''",
     "output_type": "error",
     "traceback": [
      "\u001b[1;31m---------------------------------------------------------------------------\u001b[0m",
      "\u001b[1;31mFileNotFoundError\u001b[0m                         Traceback (most recent call last)",
      "\u001b[1;32md:\\15.DX\\Mr.Tom\\DX_Through focus_automatic drawing\\DX_Through focus_automatic drawing\\ThoughFocus.ipynb Cell 2\u001b[0m in \u001b[0;36m<cell line: 2>\u001b[1;34m()\u001b[0m\n\u001b[0;32m      <a href='vscode-notebook-cell:/d%3A/15.DX/Mr.Tom/DX_Through%20focus_automatic%20drawing/DX_Through%20focus_automatic%20drawing/ThoughFocus.ipynb#W1sZmlsZQ%3D%3D?line=0'>1</a>\u001b[0m path \u001b[39m=\u001b[39m askopenfilename(filetypes\u001b[39m=\u001b[39m((\u001b[39m\"\u001b[39m\u001b[39mVideo files\u001b[39m\u001b[39m\"\u001b[39m, \u001b[39m\"\u001b[39m\u001b[39m*.mp4;*.flv;*.avi;*.mkv;*.csv;*.xlsm\u001b[39m\u001b[39m\"\u001b[39m),(\u001b[39m\"\u001b[39m\u001b[39mAll files\u001b[39m\u001b[39m\"\u001b[39m, \u001b[39m\"\u001b[39m\u001b[39m*.*\u001b[39m\u001b[39m\"\u001b[39m) ))\n\u001b[1;32m----> <a href='vscode-notebook-cell:/d%3A/15.DX/Mr.Tom/DX_Through%20focus_automatic%20drawing/DX_Through%20focus_automatic%20drawing/ThoughFocus.ipynb#W1sZmlsZQ%3D%3D?line=1'>2</a>\u001b[0m data \u001b[39m=\u001b[39m pd\u001b[39m.\u001b[39;49mread_csv(path, encoding\u001b[39m=\u001b[39;49m\u001b[39m'\u001b[39;49m\u001b[39mISO-8859-1\u001b[39;49m\u001b[39m'\u001b[39;49m)\n\u001b[0;32m      <a href='vscode-notebook-cell:/d%3A/15.DX/Mr.Tom/DX_Through%20focus_automatic%20drawing/DX_Through%20focus_automatic%20drawing/ThoughFocus.ipynb#W1sZmlsZQ%3D%3D?line=2'>3</a>\u001b[0m df \u001b[39m=\u001b[39m pd\u001b[39m.\u001b[39mDataFrame(data)\n\u001b[0;32m      <a href='vscode-notebook-cell:/d%3A/15.DX/Mr.Tom/DX_Through%20focus_automatic%20drawing/DX_Through%20focus_automatic%20drawing/ThoughFocus.ipynb#W1sZmlsZQ%3D%3D?line=3'>4</a>\u001b[0m df \u001b[39m=\u001b[39m df\u001b[39m.\u001b[39mdrop(df[df[\u001b[39m'\u001b[39m\u001b[39moption\u001b[39m\u001b[39m'\u001b[39m] \u001b[39m==\u001b[39m \u001b[39m0\u001b[39m]\u001b[39m.\u001b[39mindex)\u001b[39m.\u001b[39mreset_index(drop \u001b[39m=\u001b[39m \u001b[39mTrue\u001b[39;00m)\n",
      "File \u001b[1;32mc:\\Users\\LGIT\\AppData\\Local\\Programs\\Python\\Python310\\lib\\site-packages\\pandas\\util\\_decorators.py:311\u001b[0m, in \u001b[0;36mdeprecate_nonkeyword_arguments.<locals>.decorate.<locals>.wrapper\u001b[1;34m(*args, **kwargs)\u001b[0m\n\u001b[0;32m    305\u001b[0m \u001b[39mif\u001b[39;00m \u001b[39mlen\u001b[39m(args) \u001b[39m>\u001b[39m num_allow_args:\n\u001b[0;32m    306\u001b[0m     warnings\u001b[39m.\u001b[39mwarn(\n\u001b[0;32m    307\u001b[0m         msg\u001b[39m.\u001b[39mformat(arguments\u001b[39m=\u001b[39marguments),\n\u001b[0;32m    308\u001b[0m         \u001b[39mFutureWarning\u001b[39;00m,\n\u001b[0;32m    309\u001b[0m         stacklevel\u001b[39m=\u001b[39mstacklevel,\n\u001b[0;32m    310\u001b[0m     )\n\u001b[1;32m--> 311\u001b[0m \u001b[39mreturn\u001b[39;00m func(\u001b[39m*\u001b[39margs, \u001b[39m*\u001b[39m\u001b[39m*\u001b[39mkwargs)\n",
      "File \u001b[1;32mc:\\Users\\LGIT\\AppData\\Local\\Programs\\Python\\Python310\\lib\\site-packages\\pandas\\io\\parsers\\readers.py:680\u001b[0m, in \u001b[0;36mread_csv\u001b[1;34m(filepath_or_buffer, sep, delimiter, header, names, index_col, usecols, squeeze, prefix, mangle_dupe_cols, dtype, engine, converters, true_values, false_values, skipinitialspace, skiprows, skipfooter, nrows, na_values, keep_default_na, na_filter, verbose, skip_blank_lines, parse_dates, infer_datetime_format, keep_date_col, date_parser, dayfirst, cache_dates, iterator, chunksize, compression, thousands, decimal, lineterminator, quotechar, quoting, doublequote, escapechar, comment, encoding, encoding_errors, dialect, error_bad_lines, warn_bad_lines, on_bad_lines, delim_whitespace, low_memory, memory_map, float_precision, storage_options)\u001b[0m\n\u001b[0;32m    665\u001b[0m kwds_defaults \u001b[39m=\u001b[39m _refine_defaults_read(\n\u001b[0;32m    666\u001b[0m     dialect,\n\u001b[0;32m    667\u001b[0m     delimiter,\n\u001b[1;32m   (...)\u001b[0m\n\u001b[0;32m    676\u001b[0m     defaults\u001b[39m=\u001b[39m{\u001b[39m\"\u001b[39m\u001b[39mdelimiter\u001b[39m\u001b[39m\"\u001b[39m: \u001b[39m\"\u001b[39m\u001b[39m,\u001b[39m\u001b[39m\"\u001b[39m},\n\u001b[0;32m    677\u001b[0m )\n\u001b[0;32m    678\u001b[0m kwds\u001b[39m.\u001b[39mupdate(kwds_defaults)\n\u001b[1;32m--> 680\u001b[0m \u001b[39mreturn\u001b[39;00m _read(filepath_or_buffer, kwds)\n",
      "File \u001b[1;32mc:\\Users\\LGIT\\AppData\\Local\\Programs\\Python\\Python310\\lib\\site-packages\\pandas\\io\\parsers\\readers.py:575\u001b[0m, in \u001b[0;36m_read\u001b[1;34m(filepath_or_buffer, kwds)\u001b[0m\n\u001b[0;32m    572\u001b[0m _validate_names(kwds\u001b[39m.\u001b[39mget(\u001b[39m\"\u001b[39m\u001b[39mnames\u001b[39m\u001b[39m\"\u001b[39m, \u001b[39mNone\u001b[39;00m))\n\u001b[0;32m    574\u001b[0m \u001b[39m# Create the parser.\u001b[39;00m\n\u001b[1;32m--> 575\u001b[0m parser \u001b[39m=\u001b[39m TextFileReader(filepath_or_buffer, \u001b[39m*\u001b[39m\u001b[39m*\u001b[39mkwds)\n\u001b[0;32m    577\u001b[0m \u001b[39mif\u001b[39;00m chunksize \u001b[39mor\u001b[39;00m iterator:\n\u001b[0;32m    578\u001b[0m     \u001b[39mreturn\u001b[39;00m parser\n",
      "File \u001b[1;32mc:\\Users\\LGIT\\AppData\\Local\\Programs\\Python\\Python310\\lib\\site-packages\\pandas\\io\\parsers\\readers.py:933\u001b[0m, in \u001b[0;36mTextFileReader.__init__\u001b[1;34m(self, f, engine, **kwds)\u001b[0m\n\u001b[0;32m    930\u001b[0m     \u001b[39mself\u001b[39m\u001b[39m.\u001b[39moptions[\u001b[39m\"\u001b[39m\u001b[39mhas_index_names\u001b[39m\u001b[39m\"\u001b[39m] \u001b[39m=\u001b[39m kwds[\u001b[39m\"\u001b[39m\u001b[39mhas_index_names\u001b[39m\u001b[39m\"\u001b[39m]\n\u001b[0;32m    932\u001b[0m \u001b[39mself\u001b[39m\u001b[39m.\u001b[39mhandles: IOHandles \u001b[39m|\u001b[39m \u001b[39mNone\u001b[39;00m \u001b[39m=\u001b[39m \u001b[39mNone\u001b[39;00m\n\u001b[1;32m--> 933\u001b[0m \u001b[39mself\u001b[39m\u001b[39m.\u001b[39m_engine \u001b[39m=\u001b[39m \u001b[39mself\u001b[39;49m\u001b[39m.\u001b[39;49m_make_engine(f, \u001b[39mself\u001b[39;49m\u001b[39m.\u001b[39;49mengine)\n",
      "File \u001b[1;32mc:\\Users\\LGIT\\AppData\\Local\\Programs\\Python\\Python310\\lib\\site-packages\\pandas\\io\\parsers\\readers.py:1217\u001b[0m, in \u001b[0;36mTextFileReader._make_engine\u001b[1;34m(self, f, engine)\u001b[0m\n\u001b[0;32m   1213\u001b[0m     mode \u001b[39m=\u001b[39m \u001b[39m\"\u001b[39m\u001b[39mrb\u001b[39m\u001b[39m\"\u001b[39m\n\u001b[0;32m   1214\u001b[0m \u001b[39m# error: No overload variant of \"get_handle\" matches argument types\u001b[39;00m\n\u001b[0;32m   1215\u001b[0m \u001b[39m# \"Union[str, PathLike[str], ReadCsvBuffer[bytes], ReadCsvBuffer[str]]\"\u001b[39;00m\n\u001b[0;32m   1216\u001b[0m \u001b[39m# , \"str\", \"bool\", \"Any\", \"Any\", \"Any\", \"Any\", \"Any\"\u001b[39;00m\n\u001b[1;32m-> 1217\u001b[0m \u001b[39mself\u001b[39m\u001b[39m.\u001b[39mhandles \u001b[39m=\u001b[39m get_handle(  \u001b[39m# type: ignore[call-overload]\u001b[39;49;00m\n\u001b[0;32m   1218\u001b[0m     f,\n\u001b[0;32m   1219\u001b[0m     mode,\n\u001b[0;32m   1220\u001b[0m     encoding\u001b[39m=\u001b[39;49m\u001b[39mself\u001b[39;49m\u001b[39m.\u001b[39;49moptions\u001b[39m.\u001b[39;49mget(\u001b[39m\"\u001b[39;49m\u001b[39mencoding\u001b[39;49m\u001b[39m\"\u001b[39;49m, \u001b[39mNone\u001b[39;49;00m),\n\u001b[0;32m   1221\u001b[0m     compression\u001b[39m=\u001b[39;49m\u001b[39mself\u001b[39;49m\u001b[39m.\u001b[39;49moptions\u001b[39m.\u001b[39;49mget(\u001b[39m\"\u001b[39;49m\u001b[39mcompression\u001b[39;49m\u001b[39m\"\u001b[39;49m, \u001b[39mNone\u001b[39;49;00m),\n\u001b[0;32m   1222\u001b[0m     memory_map\u001b[39m=\u001b[39;49m\u001b[39mself\u001b[39;49m\u001b[39m.\u001b[39;49moptions\u001b[39m.\u001b[39;49mget(\u001b[39m\"\u001b[39;49m\u001b[39mmemory_map\u001b[39;49m\u001b[39m\"\u001b[39;49m, \u001b[39mFalse\u001b[39;49;00m),\n\u001b[0;32m   1223\u001b[0m     is_text\u001b[39m=\u001b[39;49mis_text,\n\u001b[0;32m   1224\u001b[0m     errors\u001b[39m=\u001b[39;49m\u001b[39mself\u001b[39;49m\u001b[39m.\u001b[39;49moptions\u001b[39m.\u001b[39;49mget(\u001b[39m\"\u001b[39;49m\u001b[39mencoding_errors\u001b[39;49m\u001b[39m\"\u001b[39;49m, \u001b[39m\"\u001b[39;49m\u001b[39mstrict\u001b[39;49m\u001b[39m\"\u001b[39;49m),\n\u001b[0;32m   1225\u001b[0m     storage_options\u001b[39m=\u001b[39;49m\u001b[39mself\u001b[39;49m\u001b[39m.\u001b[39;49moptions\u001b[39m.\u001b[39;49mget(\u001b[39m\"\u001b[39;49m\u001b[39mstorage_options\u001b[39;49m\u001b[39m\"\u001b[39;49m, \u001b[39mNone\u001b[39;49;00m),\n\u001b[0;32m   1226\u001b[0m )\n\u001b[0;32m   1227\u001b[0m \u001b[39massert\u001b[39;00m \u001b[39mself\u001b[39m\u001b[39m.\u001b[39mhandles \u001b[39mis\u001b[39;00m \u001b[39mnot\u001b[39;00m \u001b[39mNone\u001b[39;00m\n\u001b[0;32m   1228\u001b[0m f \u001b[39m=\u001b[39m \u001b[39mself\u001b[39m\u001b[39m.\u001b[39mhandles\u001b[39m.\u001b[39mhandle\n",
      "File \u001b[1;32mc:\\Users\\LGIT\\AppData\\Local\\Programs\\Python\\Python310\\lib\\site-packages\\pandas\\io\\common.py:789\u001b[0m, in \u001b[0;36mget_handle\u001b[1;34m(path_or_buf, mode, encoding, compression, memory_map, is_text, errors, storage_options)\u001b[0m\n\u001b[0;32m    784\u001b[0m \u001b[39melif\u001b[39;00m \u001b[39misinstance\u001b[39m(handle, \u001b[39mstr\u001b[39m):\n\u001b[0;32m    785\u001b[0m     \u001b[39m# Check whether the filename is to be opened in binary mode.\u001b[39;00m\n\u001b[0;32m    786\u001b[0m     \u001b[39m# Binary mode does not support 'encoding' and 'newline'.\u001b[39;00m\n\u001b[0;32m    787\u001b[0m     \u001b[39mif\u001b[39;00m ioargs\u001b[39m.\u001b[39mencoding \u001b[39mand\u001b[39;00m \u001b[39m\"\u001b[39m\u001b[39mb\u001b[39m\u001b[39m\"\u001b[39m \u001b[39mnot\u001b[39;00m \u001b[39min\u001b[39;00m ioargs\u001b[39m.\u001b[39mmode:\n\u001b[0;32m    788\u001b[0m         \u001b[39m# Encoding\u001b[39;00m\n\u001b[1;32m--> 789\u001b[0m         handle \u001b[39m=\u001b[39m \u001b[39mopen\u001b[39;49m(\n\u001b[0;32m    790\u001b[0m             handle,\n\u001b[0;32m    791\u001b[0m             ioargs\u001b[39m.\u001b[39;49mmode,\n\u001b[0;32m    792\u001b[0m             encoding\u001b[39m=\u001b[39;49mioargs\u001b[39m.\u001b[39;49mencoding,\n\u001b[0;32m    793\u001b[0m             errors\u001b[39m=\u001b[39;49merrors,\n\u001b[0;32m    794\u001b[0m             newline\u001b[39m=\u001b[39;49m\u001b[39m\"\u001b[39;49m\u001b[39m\"\u001b[39;49m,\n\u001b[0;32m    795\u001b[0m         )\n\u001b[0;32m    796\u001b[0m     \u001b[39melse\u001b[39;00m:\n\u001b[0;32m    797\u001b[0m         \u001b[39m# Binary mode\u001b[39;00m\n\u001b[0;32m    798\u001b[0m         handle \u001b[39m=\u001b[39m \u001b[39mopen\u001b[39m(handle, ioargs\u001b[39m.\u001b[39mmode)\n",
      "\u001b[1;31mFileNotFoundError\u001b[0m: [Errno 2] No such file or directory: ''"
     ]
    }
   ],
   "source": [
    "path = askopenfilename(filetypes=((\"Video files\", \"*.mp4;*.flv;*.avi;*.mkv;*.csv;*.xlsm\"),(\"All files\", \"*.*\") ))\n",
    "data = pd.read_csv(path, encoding='ISO-8859-1')\n",
    "df = pd.DataFrame(data)\n",
    "df = df.drop(df[df['option'] == 0].index).reset_index(drop = True)"
   ]
  },
  {
   "cell_type": "code",
   "execution_count": 7,
   "metadata": {},
   "outputs": [],
   "source": [
    "new_center =[]\n",
    "new_AF_code = []\n",
    "new_topleft60 = []\n",
    "new_topright60 = []\n",
    "new_bottomleft60 = []\n",
    "new_bottomright60 = []\n",
    "new_topleft85 = []\n",
    "new_topright85 = []\n",
    "new_bottomleft85 = []\n",
    "new_bottomright85 = []\n",
    "\n",
    "save_path = os.path.dirname(path)\n",
    "\n",
    "while True:    \n",
    "    center = df['sfr_560cm_n4_cen_avg']\n",
    "    AF_code = df['AFcode']\n",
    "    topleft60 = (df['sfr_560cm_n4_60F_TL_20']+df['sfr_560cm_n4_60F_TL_22'])/2\n",
    "    topright60 = (df['sfr_560cm_n4_60F_TR_36']+df['sfr_560cm_n4_60F_TR_37'])/2\n",
    "    bottomleft60 = (df['sfr_560cm_n4_60F_BL_240']+df['sfr_560cm_n4_60F_BL_241'])/2\n",
    "    bottomright60 = (df['sfr_560cm_n4_60F_BR_230']+df['sfr_560cm_n4_60F_BR_258'])/2\n",
    "    topleft85 = (df['sfr_560cm_n4_85F_TL_1']+df['sfr_560cm_n4_85F_TL_17'])/2\n",
    "    topright85 = (df['sfr_560cm_n4_85F_TR_14']+df['sfr_560cm_n4_85F_TR_42'])/2\n",
    "    bottomleft85 = (df['sfr_560cm_n4_85F_BL_235']+df['sfr_560cm_n4_85F_BL_237'])/2\n",
    "    bottomright85 = (df['sfr_560cm_n4_85F_BR_259']+df['sfr_560cm_n4_85F_BR_262'])/2\n",
    "    count = 0\n",
    "\n",
    "    for index,value in enumerate(df['option']):\n",
    "        if value == 1:\n",
    "            new_center.append(center[index])\n",
    "            new_AF_code.append(AF_code[index])\n",
    "            new_topleft60.append(topleft60[index])\n",
    "            new_topright60.append(topright60[index])\n",
    "            new_bottomleft60.append(bottomleft60[index])\n",
    "            new_bottomright60.append(bottomright60[index])\n",
    "            new_topleft85.append(topleft85[index])\n",
    "            new_topright85.append(topright85[index])\n",
    "            new_bottomleft85.append(bottomleft85[index])\n",
    "            new_bottomright85.append(bottomright85[index])\n",
    "            sensorid = df['sensorID'][0]\n",
    "            count +=1\n",
    "        else:\n",
    "            df = df.drop(df.index[list(range(index+1))]).reset_index(drop = True)\n",
    "            break\n",
    "    fig, ax1 = plt.subplots()\n",
    "    plt.title(sensorid + '_60')\n",
    "\n",
    "    df1 = pd.DataFrame({'AFcode': new_AF_code,'sfr_500cm_n4_cen_avg':new_center,'sfr_500cm_n4_60F_TL':new_topleft60,'sfr_500cm_n4_60F_TR':new_topright60,'sfr_500cm_n4_60F_BL':new_bottomleft60,'sfr_500cm_n4_60F_BR':new_bottomright60})\n",
    "    ax1.plot('AFcode','sfr_500cm_n4_cen_avg',data=df1,color='blue',linewidth=2)\n",
    "    ax1.plot('AFcode','sfr_500cm_n4_60F_TL',data=df1,color='red',linewidth=2)\n",
    "    ax1.plot('AFcode','sfr_500cm_n4_60F_TR',data=df1,color='green',linewidth=2)\n",
    "    ax1.plot('AFcode','sfr_500cm_n4_60F_BL',data=df1,color='purple',linewidth=2)\n",
    "    ax1.plot('AFcode','sfr_500cm_n4_60F_BR',data=df1,color='lightblue',linewidth=2)\n",
    "    ax1.grid()\n",
    "    ax1.set_ylim(bottom=0)\n",
    "    plt.legend(loc = 'lower right',fontsize=8)\n",
    "    plt.xlabel('AFcode')\n",
    "    plt.ylabel('SFR')\n",
    "    plt.savefig(save_path +'/result/'+str(count)+'_'+str(sensorid)+'_60'+'.png',dpi = 200)\n",
    "    plt.clf()\n",
    "    plt.close()\n",
    "\n",
    "    fig, ax2 = plt.subplots()\n",
    "    plt.title(sensorid+ '_85')\n",
    "    \n",
    "    df2  = pd.DataFrame({'AFcode': new_AF_code,'sfr_500cm_n4_cen_avg':new_center,'sfr_500cm_n4_85F_TL':new_topleft85,'sfr_500cm_n4_85F_TR':new_topright85,'sfr_500cm_n4_85F_BL':new_bottomleft85,'sfr_500cm_n4_85F_BR':new_bottomright85})\n",
    "    ax2.plot('AFcode','sfr_500cm_n4_cen_avg',data=df2,color='blue',linewidth=2)\n",
    "    ax2.plot('AFcode','sfr_500cm_n4_85F_TL',data=df2,color='red',linewidth=2)\n",
    "    ax2.plot('AFcode','sfr_500cm_n4_85F_TR',data=df2,color='green',linewidth=2)\n",
    "    ax2.plot('AFcode','sfr_500cm_n4_85F_BL',data=df2,color='purple',linewidth=2)\n",
    "    ax2.plot('AFcode','sfr_500cm_n4_85F_BR',data=df2,color='lightblue',linewidth=2)\n",
    "    ax2.grid()\n",
    "    ax2.set_ylim(bottom=0)\n",
    "    plt.legend(loc = 'lower right',fontsize=8)\n",
    "    plt.xlabel('AFcode')\n",
    "    plt.ylabel('SFR')\n",
    "    plt.savefig(save_path +'/result/'+str(count)+'_'+str(sensorid)+'_85'+'.png',dpi = 200)\n",
    "    plt.clf()\n",
    "    plt.close()\n",
    "    \n",
    "    new_center =[]\n",
    "    new_AF_code = []\n",
    "    new_topleft60 = []\n",
    "    new_topright60 = []\n",
    "    new_bottomleft60 = []\n",
    "    new_bottomright60 = []\n",
    "    new_topleft85 = []\n",
    "    new_topright85 = []\n",
    "    new_bottomleft85 = []\n",
    "    new_bottomright85 = []\n",
    "\n",
    "    if len(df) < len(range(index+1)):\n",
    "        break \n",
    "    else:\n",
    "        continue\n",
    "    \n"
   ]
  },
  {
   "cell_type": "code",
   "execution_count": 288,
   "metadata": {},
   "outputs": [
    {
     "data": {
      "text/plain": [
       "'D:/15.DX/Mr.Tom/DX_Through focus_automatic drawing/DX_Through focus_automatic drawing'"
      ]
     },
     "execution_count": 288,
     "metadata": {},
     "output_type": "execute_result"
    }
   ],
   "source": [
    "os.path.dirname(path)"
   ]
  },
  {
   "cell_type": "code",
   "execution_count": null,
   "metadata": {},
   "outputs": [],
   "source": []
  }
 ],
 "metadata": {
  "kernelspec": {
   "display_name": "Python 3.10.3 64-bit",
   "language": "python",
   "name": "python3"
  },
  "language_info": {
   "codemirror_mode": {
    "name": "ipython",
    "version": 3
   },
   "file_extension": ".py",
   "mimetype": "text/x-python",
   "name": "python",
   "nbconvert_exporter": "python",
   "pygments_lexer": "ipython3",
   "version": "3.10.3"
  },
  "orig_nbformat": 4,
  "vscode": {
   "interpreter": {
    "hash": "97ddc28bdcd24b84b8120ad7968d2264aee9efa803f5ba6fb0da4ee24ee25b90"
   }
  }
 },
 "nbformat": 4,
 "nbformat_minor": 2
}
